{
 "cells": [
  {
   "cell_type": "markdown",
   "metadata": {},
   "source": [
    "# Proyecto práctico\n",
    "\n",
    "## Unidad 3 - Aprendizaje supervisado\n",
    "\n",
    "El proyecto práctico consiste en abordar un problema de clasificación de documentos textuales. Tenemos a nuestra disposición un dataset de noticias de prensa en español publicada por el medio \"CNN Chile\".\n",
    "\n",
    "Las noticias están divididas en 7 categorías temáticas: *'pais','deportes','tendencias','tecnologias','cultura','economia','mundo'*\n",
    "\n",
    "El proyecto se divide en dos partes:\n",
    "\n",
    "- Utilizar al menos 3 estrategías para entrenar modelos de clasificación capaces de clasificar las noticias según su categoría temática.\n",
    "\n",
    "- Explorar cuáles son las características que permiten explicar las decisiones de su modelo.\n",
    "\n",
    "## 0. Evaluación\n",
    "\n",
    "El proyecto se realiza de forma individual. Se entrega a más tardar el **lunes 30 de noviembre** en su repositorio GitHub.\n",
    "\n",
    "**Pauta de evaluación:**\n",
    "\n",
    "Competencia 1: Aplicar un protocolo de aprendizaje supervisado para resolver un problema clasificación estandar, utilizando un entorno de programación en Python\n",
    "\n",
    "- < 2 : El protocolo de aprendizaje supervisado utilizado es incompleto y/o presenta errores importantes\n",
    "- 2 a 3.9 : El protocolo de aprendizaje supervisado utilizado es incompleto o presenta un error importante\n",
    "- 4 a 5.5 : El protocolo de aprendizaje es completo, no tiene error, pero las estrategias utilizadas son relativamente simples y el rendimiento de los modelos es perfectible.\n",
    "- 5.6 a 7.0 : El protocolo de aprendizaje es completo, no tiene error y al menos una de las estrategias utilizadas a necesitado un trabajado más avanzado y/o permite obtener un mejor rendimiento.\n",
    "\n",
    "Competencia 2: Explicar el rendimiento de un modelo de clasificación aplicando un protocolo de evaluación Precision/Recall/F-Score\n",
    "\n",
    "- < 2 : El trabajo no presenta explicaciones del rendimiento de los modelos de clasificación\n",
    "- 2 a 3.9 : El trabajo presenta algunas explicaciones pero tienen errores.\n",
    "- 4 a 5.5 : El trabajo presenta explicaciones correctas del rendimiento de los modelos\n",
    "- 5.6 a 7 : El trabajo presenta explicaciones correctas del rendimiento de los modelos y además presenta un método para explicar las decisiones/errores\n"
   ]
  },
  {
   "cell_type": "markdown",
   "metadata": {},
   "source": [
    "## 1. Dataset"
   ]
  },
  {
   "cell_type": "code",
   "execution_count": 4,
   "metadata": {},
   "outputs": [
    {
     "data": {
      "text/html": [
       "<div>\n",
       "<style scoped>\n",
       "    .dataframe tbody tr th:only-of-type {\n",
       "        vertical-align: middle;\n",
       "    }\n",
       "\n",
       "    .dataframe tbody tr th {\n",
       "        vertical-align: top;\n",
       "    }\n",
       "\n",
       "    .dataframe thead th {\n",
       "        text-align: right;\n",
       "    }\n",
       "</style>\n",
       "<table border=\"1\" class=\"dataframe\">\n",
       "  <thead>\n",
       "    <tr style=\"text-align: right;\">\n",
       "      <th></th>\n",
       "      <th>country</th>\n",
       "      <th>media_outlet</th>\n",
       "      <th>url</th>\n",
       "      <th>title</th>\n",
       "      <th>text</th>\n",
       "      <th>date</th>\n",
       "      <th>category</th>\n",
       "    </tr>\n",
       "  </thead>\n",
       "  <tbody>\n",
       "    <tr>\n",
       "      <th>0</th>\n",
       "      <td>chile</td>\n",
       "      <td>cnnchile</td>\n",
       "      <td>https://www.cnnchile.com/pais/pdta-del-colegio...</td>\n",
       "      <td>Pdta. del Colegio de Matronas explicó los ries...</td>\n",
       "      <td>La Federación de Estudiantes de la Universidad...</td>\n",
       "      <td>2018-03-29 00:00:00.000000</td>\n",
       "      <td>pais</td>\n",
       "    </tr>\n",
       "    <tr>\n",
       "      <th>1</th>\n",
       "      <td>chile</td>\n",
       "      <td>cnnchile</td>\n",
       "      <td>https://www.cnnchile.com/pais/defensoria-ninez...</td>\n",
       "      <td>Defensoría de la Niñez pide al Estado velar po...</td>\n",
       "      <td>La Defensoría de la Niñez emitió este domingo ...</td>\n",
       "      <td>2020-08-02 00:00:00.000000</td>\n",
       "      <td>pais</td>\n",
       "    </tr>\n",
       "    <tr>\n",
       "      <th>2</th>\n",
       "      <td>chile</td>\n",
       "      <td>cnnchile</td>\n",
       "      <td>https://www.cnnchile.com/pais/cuanto-les-pagar...</td>\n",
       "      <td>¿Cuánto les pagarán a los vocales de mesa?</td>\n",
       "      <td>El monto del bono es de dos tercios de Unidad ...</td>\n",
       "      <td>2016-10-20 00:00:00.000000</td>\n",
       "      <td>pais</td>\n",
       "    </tr>\n",
       "    <tr>\n",
       "      <th>3</th>\n",
       "      <td>chile</td>\n",
       "      <td>cnnchile</td>\n",
       "      <td>https://www.cnnchile.com/pais/sobrino-de-aleja...</td>\n",
       "      <td>Sobrino de Alejandro Navarro intenta “funar” e...</td>\n",
       "      <td>Una nueva polémica tiene esta carrera presiden...</td>\n",
       "      <td>2017-11-13 00:00:00.000000</td>\n",
       "      <td>pais</td>\n",
       "    </tr>\n",
       "    <tr>\n",
       "      <th>4</th>\n",
       "      <td>chile</td>\n",
       "      <td>cnnchile</td>\n",
       "      <td>https://www.cnnchile.com/pais/analisis-sobre-e...</td>\n",
       "      <td>Análisis sobre el aumento de impuestos para al...</td>\n",
       "      <td>Especialistas recomiendan no consumir más de 2...</td>\n",
       "      <td>2014-05-05 00:00:00.000000</td>\n",
       "      <td>pais</td>\n",
       "    </tr>\n",
       "    <tr>\n",
       "      <th>...</th>\n",
       "      <td>...</td>\n",
       "      <td>...</td>\n",
       "      <td>...</td>\n",
       "      <td>...</td>\n",
       "      <td>...</td>\n",
       "      <td>...</td>\n",
       "      <td>...</td>\n",
       "    </tr>\n",
       "    <tr>\n",
       "      <th>6995</th>\n",
       "      <td>chile</td>\n",
       "      <td>cnnchile</td>\n",
       "      <td>https://www.cnnchile.com/tecnologias/playstati...</td>\n",
       "      <td>PlayStation 5 vs Xbox Series X: Mira la compar...</td>\n",
       "      <td>Las compañías ya han revelado muchos detalles ...</td>\n",
       "      <td>2020-09-18 00:00:00.000000</td>\n",
       "      <td>tecnologias</td>\n",
       "    </tr>\n",
       "    <tr>\n",
       "      <th>6996</th>\n",
       "      <td>chile</td>\n",
       "      <td>cnnchile</td>\n",
       "      <td>https://www.cnnchile.com/tecnologias/android-l...</td>\n",
       "      <td>Android le dará “una paliza” a Windows en 2013</td>\n",
       "      <td>Se proyecta que tras un virtual empate en 2012...</td>\n",
       "      <td>2013-04-04 00:00:00.000000</td>\n",
       "      <td>tecnologias</td>\n",
       "    </tr>\n",
       "    <tr>\n",
       "      <th>6997</th>\n",
       "      <td>chile</td>\n",
       "      <td>cnnchile</td>\n",
       "      <td>https://www.cnnchile.com/tecnologias/regalos-t...</td>\n",
       "      <td>Regalos tecnológicos marcaron pauta en Navidad</td>\n",
       "      <td>Tablets y smartphones fueron los regalos tecno...</td>\n",
       "      <td>2012-12-26 00:00:00.000000</td>\n",
       "      <td>tecnologias</td>\n",
       "    </tr>\n",
       "    <tr>\n",
       "      <th>6998</th>\n",
       "      <td>chile</td>\n",
       "      <td>cnnchile</td>\n",
       "      <td>https://www.cnnchile.com/tecnologias/jugar-con...</td>\n",
       "      <td>Jugar con Fox en Starlink vale totalmente la p...</td>\n",
       "      <td>Crecí jugando clásicos de naves como Terminal ...</td>\n",
       "      <td>2018-10-30 00:00:00.000000</td>\n",
       "      <td>tecnologias</td>\n",
       "    </tr>\n",
       "    <tr>\n",
       "      <th>6999</th>\n",
       "      <td>chile</td>\n",
       "      <td>cnnchile</td>\n",
       "      <td>https://www.cnnchile.com/tecnologias/konami-la...</td>\n",
       "      <td>Konami lanza PES 2018 de forma gratuita para i...</td>\n",
       "      <td>Konami Digital Entertainment ha anunciado que ...</td>\n",
       "      <td>2017-11-10 00:00:00.000000</td>\n",
       "      <td>tecnologias</td>\n",
       "    </tr>\n",
       "  </tbody>\n",
       "</table>\n",
       "<p>7000 rows × 7 columns</p>\n",
       "</div>"
      ],
      "text/plain": [
       "     country media_outlet                                                url  \\\n",
       "0      chile     cnnchile  https://www.cnnchile.com/pais/pdta-del-colegio...   \n",
       "1      chile     cnnchile  https://www.cnnchile.com/pais/defensoria-ninez...   \n",
       "2      chile     cnnchile  https://www.cnnchile.com/pais/cuanto-les-pagar...   \n",
       "3      chile     cnnchile  https://www.cnnchile.com/pais/sobrino-de-aleja...   \n",
       "4      chile     cnnchile  https://www.cnnchile.com/pais/analisis-sobre-e...   \n",
       "...      ...          ...                                                ...   \n",
       "6995   chile     cnnchile  https://www.cnnchile.com/tecnologias/playstati...   \n",
       "6996   chile     cnnchile  https://www.cnnchile.com/tecnologias/android-l...   \n",
       "6997   chile     cnnchile  https://www.cnnchile.com/tecnologias/regalos-t...   \n",
       "6998   chile     cnnchile  https://www.cnnchile.com/tecnologias/jugar-con...   \n",
       "6999   chile     cnnchile  https://www.cnnchile.com/tecnologias/konami-la...   \n",
       "\n",
       "                                                  title  \\\n",
       "0     Pdta. del Colegio de Matronas explicó los ries...   \n",
       "1     Defensoría de la Niñez pide al Estado velar po...   \n",
       "2            ¿Cuánto les pagarán a los vocales de mesa?   \n",
       "3     Sobrino de Alejandro Navarro intenta “funar” e...   \n",
       "4     Análisis sobre el aumento de impuestos para al...   \n",
       "...                                                 ...   \n",
       "6995  PlayStation 5 vs Xbox Series X: Mira la compar...   \n",
       "6996     Android le dará “una paliza” a Windows en 2013   \n",
       "6997     Regalos tecnológicos marcaron pauta en Navidad   \n",
       "6998  Jugar con Fox en Starlink vale totalmente la p...   \n",
       "6999  Konami lanza PES 2018 de forma gratuita para i...   \n",
       "\n",
       "                                                   text  \\\n",
       "0     La Federación de Estudiantes de la Universidad...   \n",
       "1     La Defensoría de la Niñez emitió este domingo ...   \n",
       "2     El monto del bono es de dos tercios de Unidad ...   \n",
       "3     Una nueva polémica tiene esta carrera presiden...   \n",
       "4     Especialistas recomiendan no consumir más de 2...   \n",
       "...                                                 ...   \n",
       "6995  Las compañías ya han revelado muchos detalles ...   \n",
       "6996  Se proyecta que tras un virtual empate en 2012...   \n",
       "6997  Tablets y smartphones fueron los regalos tecno...   \n",
       "6998  Crecí jugando clásicos de naves como Terminal ...   \n",
       "6999  Konami Digital Entertainment ha anunciado que ...   \n",
       "\n",
       "                            date     category  \n",
       "0     2018-03-29 00:00:00.000000         pais  \n",
       "1     2020-08-02 00:00:00.000000         pais  \n",
       "2     2016-10-20 00:00:00.000000         pais  \n",
       "3     2017-11-13 00:00:00.000000         pais  \n",
       "4     2014-05-05 00:00:00.000000         pais  \n",
       "...                          ...          ...  \n",
       "6995  2020-09-18 00:00:00.000000  tecnologias  \n",
       "6996  2013-04-04 00:00:00.000000  tecnologias  \n",
       "6997  2012-12-26 00:00:00.000000  tecnologias  \n",
       "6998  2018-10-30 00:00:00.000000  tecnologias  \n",
       "6999  2017-11-10 00:00:00.000000  tecnologias  \n",
       "\n",
       "[7000 rows x 7 columns]"
      ]
     },
     "execution_count": 4,
     "metadata": {},
     "output_type": "execute_result"
    }
   ],
   "source": [
    "import pandas as pd\n",
    "\n",
    "df = pd.read_csv('cnnchile_7000.csv')\n",
    "df"
   ]
  },
  {
   "cell_type": "code",
   "execution_count": 5,
   "metadata": {},
   "outputs": [
    {
     "data": {
      "text/html": [
       "<div>\n",
       "<style scoped>\n",
       "    .dataframe tbody tr th:only-of-type {\n",
       "        vertical-align: middle;\n",
       "    }\n",
       "\n",
       "    .dataframe tbody tr th {\n",
       "        vertical-align: top;\n",
       "    }\n",
       "\n",
       "    .dataframe thead th {\n",
       "        text-align: right;\n",
       "    }\n",
       "</style>\n",
       "<table border=\"1\" class=\"dataframe\">\n",
       "  <thead>\n",
       "    <tr style=\"text-align: right;\">\n",
       "      <th></th>\n",
       "      <th>category</th>\n",
       "      <th>count(*)</th>\n",
       "    </tr>\n",
       "  </thead>\n",
       "  <tbody>\n",
       "    <tr>\n",
       "      <th>0</th>\n",
       "      <td>tendencias</td>\n",
       "      <td>1000</td>\n",
       "    </tr>\n",
       "    <tr>\n",
       "      <th>1</th>\n",
       "      <td>tecnologias</td>\n",
       "      <td>1000</td>\n",
       "    </tr>\n",
       "    <tr>\n",
       "      <th>2</th>\n",
       "      <td>pais</td>\n",
       "      <td>1000</td>\n",
       "    </tr>\n",
       "    <tr>\n",
       "      <th>3</th>\n",
       "      <td>mundo</td>\n",
       "      <td>1000</td>\n",
       "    </tr>\n",
       "    <tr>\n",
       "      <th>4</th>\n",
       "      <td>economia</td>\n",
       "      <td>1000</td>\n",
       "    </tr>\n",
       "    <tr>\n",
       "      <th>5</th>\n",
       "      <td>deportes</td>\n",
       "      <td>1000</td>\n",
       "    </tr>\n",
       "    <tr>\n",
       "      <th>6</th>\n",
       "      <td>cultura</td>\n",
       "      <td>1000</td>\n",
       "    </tr>\n",
       "  </tbody>\n",
       "</table>\n",
       "</div>"
      ],
      "text/plain": [
       "      category  count(*)\n",
       "0   tendencias      1000\n",
       "1  tecnologias      1000\n",
       "2         pais      1000\n",
       "3        mundo      1000\n",
       "4     economia      1000\n",
       "5     deportes      1000\n",
       "6      cultura      1000"
      ]
     },
     "execution_count": 5,
     "metadata": {},
     "output_type": "execute_result"
    }
   ],
   "source": [
    "from pandasql import sqldf\n",
    "\n",
    "q=\"\"\"SELECT category, count(*) FROM df GROUP BY category ORDER BY count(*) DESC;\"\"\"\n",
    "result=sqldf(q)\n",
    "result"
   ]
  },
  {
   "cell_type": "markdown",
   "metadata": {},
   "source": [
    "En este caso queremos que nuestros algoritmos aprendan a clasificar las categorías de las noticias. Tenemos datos que no seran de utilidad en el aprendisaje como es la fecha o la url, los cuales no son indicio de a que categoría puede pertenecer una noticia, con lo cual es innecesario para nuestro caso de clasificación. También 'media_outlet' y 'country' no son datos que nos aporten debido a que todos son noticas de este preciso medio y del mismo país, con lo que también son descartados.  Debido a esto nuestro algoritmo aprenderá a clasificar noticias según categorías teniendo como información tan solo el título y texto de las noticias."
   ]
  },
  {
   "cell_type": "code",
   "execution_count": 6,
   "metadata": {},
   "outputs": [],
   "source": [
    "#Separamos Y (las categorías que debe llegar a predecir) de X (el título y texto con lo cual aprenderá a categorizar las noticias).\n",
    "Y = df['category']\n",
    "X = df[['title','text']]"
   ]
  },
  {
   "cell_type": "markdown",
   "metadata": {},
   "source": [
    "# 1. REGRESIÓN LOGÍSTICA\n",
    "* el primer algoritmo que usaré será el ya estudiado de regresión logística, la cual nos dará por medio de la función logísitca una clasificación binaria. \n",
    "* no tenemos dummy variables, con lo que simplemente avanzamos a aplicar el algoritmo"
   ]
  },
  {
   "cell_type": "code",
   "execution_count": 7,
   "metadata": {},
   "outputs": [],
   "source": [
    "import spacy\n",
    "\n",
    "nlp = spacy.load('es_core_news_md')"
   ]
  },
  {
   "cell_type": "markdown",
   "metadata": {},
   "source": [
    "*  A modo de prueba veremos que tan bien define las palabras de la primera noticia. (se ha comentado por temas de mejor visibilidad general)"
   ]
  },
  {
   "cell_type": "code",
   "execution_count": 1,
   "metadata": {
    "scrolled": true
   },
   "outputs": [],
   "source": [
    "#doc = nlp(df['text'][1])\n",
    "#for token in doc:\n",
    "#    print(token.text, end=\"  \")\n",
    "#   print(token.pos_, end=\" |    \")"
   ]
  },
  {
   "cell_type": "markdown",
   "metadata": {},
   "source": [
    "Ahora haremos la aplicacion del modelo bag-of-words para implementar un algoritmo supervisado"
   ]
  },
  {
   "cell_type": "code",
   "execution_count": 8,
   "metadata": {},
   "outputs": [],
   "source": [
    "from sklearn.feature_extraction.text import CountVectorizer"
   ]
  },
  {
   "cell_type": "code",
   "execution_count": 9,
   "metadata": {},
   "outputs": [],
   "source": [
    "def feature_extraction(text):\n",
    "    \n",
    "    mytokens = nlp(text)\n",
    "\n",
    "    #Guardamos las palabras como características si corresponden a ciertas categorias gramaticales\n",
    "    mytokens = [ word for word in mytokens if word.pos_ in [\"NOUN\", \"ADJ\", \"VERB\"] ]\n",
    "    \n",
    "    #Transformamos las palabras en minusculas\n",
    "    mytokens = [ word.lemma_.lower().strip() for word in mytokens ]\n",
    "\n",
    "    # retorna la lista de tokens preprocesados\n",
    "    return mytokens"
   ]
  },
  {
   "cell_type": "code",
   "execution_count": 10,
   "metadata": {},
   "outputs": [
    {
     "data": {
      "text/plain": [
       "CountVectorizer(min_df=0.0,\n",
       "                tokenizer=<function feature_extraction at 0x7f34c9d3cc20>)"
      ]
     },
     "execution_count": 10,
     "metadata": {},
     "output_type": "execute_result"
    }
   ],
   "source": [
    "bow_vector = CountVectorizer(tokenizer = feature_extraction, min_df=0., max_df=1.0)\n",
    "bow_vector"
   ]
  },
  {
   "cell_type": "markdown",
   "metadata": {},
   "source": [
    "* Dividimos nuestro conjunto en uno de testeo y uno de practica"
   ]
  },
  {
   "cell_type": "code",
   "execution_count": 11,
   "metadata": {},
   "outputs": [],
   "source": [
    "Xtext = X[\"text\"]\n",
    "Xtitle = X[\"title\"]"
   ]
  },
  {
   "cell_type": "markdown",
   "metadata": {},
   "source": [
    "* En base a observaciones hechas a través de la práctica determinamos que la diferencia entre datos de entrenamiento y testeo ideal está en un 63%. (63% para entrenamiento, 37% para testeo)"
   ]
  },
  {
   "cell_type": "code",
   "execution_count": 12,
   "metadata": {},
   "outputs": [],
   "source": [
    "from sklearn.model_selection import train_test_split\n",
    "\n",
    "X_train, X_test, y_train, y_test = train_test_split(Xtext, Y, test_size=0.63)"
   ]
  },
  {
   "cell_type": "code",
   "execution_count": 13,
   "metadata": {},
   "outputs": [],
   "source": [
    "from sklearn.pipeline import Pipeline"
   ]
  },
  {
   "cell_type": "markdown",
   "metadata": {},
   "source": [
    "* Aplicamos el modelo de regresión logística dado por sklearn"
   ]
  },
  {
   "cell_type": "code",
   "execution_count": 14,
   "metadata": {},
   "outputs": [
    {
     "data": {
      "text/plain": [
       "Pipeline(steps=[('vectorizing',\n",
       "                 CountVectorizer(min_df=0.0,\n",
       "                                 tokenizer=<function feature_extraction at 0x7f34c9d3cc20>)),\n",
       "                ('learning', LogisticRegression())])"
      ]
     },
     "execution_count": 14,
     "metadata": {},
     "output_type": "execute_result"
    }
   ],
   "source": [
    "from sklearn.linear_model import LogisticRegression\n",
    "\n",
    "model_1 = LogisticRegression()\n",
    "\n",
    "pipe = Pipeline([('vectorizing', bow_vector),\n",
    "                 ('learning', model_1)])\n",
    "\n",
    "# model generation\n",
    "pipe.fit(X_train,y_train)"
   ]
  },
  {
   "cell_type": "markdown",
   "metadata": {},
   "source": [
    "(se ha comentado por temas de mejor visibilidad general)"
   ]
  },
  {
   "cell_type": "code",
   "execution_count": 15,
   "metadata": {
    "scrolled": true
   },
   "outputs": [],
   "source": [
    "#print(len(model_1.coef_[0]))\n",
    "\n",
    "#for coef in model_1.coef_[0]:\n",
    "#    print(coef)"
   ]
  },
  {
   "cell_type": "code",
   "execution_count": 16,
   "metadata": {},
   "outputs": [],
   "source": [
    "from sklearn import metrics\n",
    "\n",
    "predicted = pipe.predict(X_test)\n",
    "predicted_proba = pipe.predict_proba(X_test)\n",
    "\n",
    "#(se ha comentado por temas de mejor visibilidad general)\n",
    "#print(predicted)\n",
    "#print(predicted_proba)"
   ]
  },
  {
   "cell_type": "markdown",
   "metadata": {},
   "source": [
    "* El resultado en vistas generales del modelo implementado segun su accuracy"
   ]
  },
  {
   "cell_type": "code",
   "execution_count": 13,
   "metadata": {},
   "outputs": [
    {
     "name": "stdout",
     "output_type": "stream",
     "text": [
      "Logistic Regression Accuracy: 0.7197142857142858\n"
     ]
    }
   ],
   "source": [
    "print(\"Logistic Regression Accuracy:\",metrics.accuracy_score(y_test, predicted))"
   ]
  },
  {
   "cell_type": "code",
   "execution_count": 14,
   "metadata": {},
   "outputs": [
    {
     "name": "stdout",
     "output_type": "stream",
     "text": [
      "[[400   2   4  17  14  18  38]\n",
      " [  4 433  15   8  13   5  21]\n",
      " [  2  11 393   8  46  23  10]\n",
      " [ 12  25  27 339  63  18  21]\n",
      " [  8  28  55  66 329  16  19]\n",
      " [  5  21  36  14  13 327  75]\n",
      " [ 40  43  15  20  13  69 298]]\n",
      "              precision    recall  f1-score   support\n",
      "\n",
      "     cultura       0.85      0.81      0.83       493\n",
      "    deportes       0.77      0.87      0.82       499\n",
      "    economia       0.72      0.80      0.76       493\n",
      "       mundo       0.72      0.67      0.69       505\n",
      "        pais       0.67      0.63      0.65       521\n",
      " tecnologias       0.69      0.67      0.68       491\n",
      "  tendencias       0.62      0.60      0.61       498\n",
      "\n",
      "    accuracy                           0.72      3500\n",
      "   macro avg       0.72      0.72      0.72      3500\n",
      "weighted avg       0.72      0.72      0.72      3500\n",
      "\n"
     ]
    }
   ],
   "source": [
    "# Matriz de confusión\n",
    "from sklearn.metrics import confusion_matrix\n",
    "\n",
    "confusion_matrix = confusion_matrix(y_test, predicted)\n",
    "print(confusion_matrix)\n",
    "\n",
    "from sklearn.metrics import classification_report\n",
    "\n",
    "print(classification_report(y_test, predicted))"
   ]
  },
  {
   "cell_type": "code",
   "execution_count": 15,
   "metadata": {},
   "outputs": [
    {
     "data": {
      "text/plain": [
       "(array([0.5, 1.5, 2.5, 3.5, 4.5, 5.5, 6.5]),\n",
       " <a list of 7 Text major ticklabel objects>)"
      ]
     },
     "execution_count": 15,
     "metadata": {},
     "output_type": "execute_result"
    },
    {
     "data": {
      "image/png": "[encoded data removed]",
      "text/plain": [
       "<Figure size 432x288 with 1 Axes>"
      ]
     },
     "metadata": {
      "needs_background": "light"
     },
     "output_type": "display_data"
    }
   ],
   "source": [
    "import matplotlib.pyplot as plt\n",
    "import seaborn as sns\n",
    "import numpy as np\n",
    "\n",
    "classes = np.unique(y_test)\n",
    "\n",
    "cm = metrics.confusion_matrix(y_test, predicted)\n",
    "fig, ax = plt.subplots()\n",
    "sns.heatmap(cm, annot=True, fmt='d', ax=ax, cmap=plt.cm.Blues, \n",
    "            cbar=False)\n",
    "ax.set(xlabel=\"Pred\", ylabel=\"True\", xticklabels=classes, \n",
    "       yticklabels=classes, title=\"Confusion matrix\")\n",
    "plt.yticks(rotation=0)"
   ]
  },
  {
   "cell_type": "markdown",
   "metadata": {},
   "source": [
    "Debido a todo lo visto podemos encontrar que nuestro algoritmo logistico ha acertado correctamente un 72% de los datos. Esto puede entenderse mejor en el análisis dado por el classification_report de sklearn.metrics que analiza lo entregado en el matriz de confusión. Este algoritmo evalúa precision, recall y F1-score:\n",
    "\n",
    "* Precisión: Podemos notar que el apartado de noticias de cultura es el que tiene mejor acertado sus predicciones, mientras que Tendencias queda como el pero evaluado en esta métrica con un 62% de los que evaluó como tendencia siendo realmente de ese grupo. Esto último nos dice que en principio las noticias de Cultura son mas definidas o tienen una riqueza linguistica que les hace identificables para nuestro algoritmo en comparación con tendencias, la cual aunque no siendo alarmante tenemos que tiene una buena parte de sus noticias predecidas siendo realmente de otros apartados, comportamiento que seguiremos viendo en otros modelos. Esto lo podemos entender desde la perspectiva que tendencias no tiene que ver con un tópico en una área específica de las noticias sino un apartado a lo que en el momento es de mayor impacto, como pueden ser las categorías de tecnologías, mundo o cultura.\n",
    "\n",
    "\n",
    "* Recall: En ésta métrica tenemos un cambio en cuanto a quien esta mejor evaluado, sindo Deportes el mejor con un 87% siguiendole quien en precisión era mejor, el de Cultura. Esta métrica nos informa de cuanto porcentaje de todos los que entraban en un cierto tópico logramos identificar en el tópico correspondiente. En este sentido tenemos que deportes es el mejor evaluado, y se entiende debido a que, al igual que en cultura (aunque en diferentes aspectos), tiene un lenguaje que es bastante mas de nicho en el tópico dado, entre los cuales podemos notar numeros de camisetas, nombres de jugadores, y una jerga que no encontraríamos en otros tópicos, como si podría llegar a darse entre Cultura y Mundo o Cultura y País, por ejemplo. El peor evaluado en esta métrica es Tendencias una vez mas. En este sentido notamos un grupo bastante focalizado formado por Tendencias, Pais, Mundo y Tecnología, las cuales tienen un índice bajo el 70%. Esto nos dice que un porcentaje no menor de noticias correspondiente a sus tópicos están repartidas en otros tópicos, los cuales podemos intuir que corresponderan a aquellos del mismo grupo (aunque en la practica, al menos para tendencias que es la peor evaluada, esta mezclada con noticas de cultura y deportes principalmente). En otras palabras, que el algoritmo le es complicado a simple vista categorizar entre estos cuatro tópicos en mayor medida, en comparación que los tópicos restantes.\n",
    "\n",
    "\n",
    "* F1: Tomando en cuenta que esta métrica evalúa según la media armónica la precisión y exhaustividad (recall) podemos ver que el valor dado esta en concordancia a lo que esperaríamos según lo analizado en las anteriores métricas. Nuevamente se ve dos grupos formados por el ya visto en recall de Tendencias, País, Mundo y Tecnología, y por otro lado el formado por Cultura, Deportes y Economía, las cuales tienen a diferencia de los primeros una mejor evaluación. En resumen podemos notar que este último grupo es el que evalúa de mejor manera sus tópicos, siendo acertados y mas limpios de noticias de tópicos diferentes en comparación con el primer grupo. Nuevamente atribuyo este comportamiento al lenguaje usado por cada uno de los tópicos, y sus titulares los cuales en el primer grupo es entendible que tiendan a tener cierta similitud que claramente fue aprendido por el algoritmo."
   ]
  },
  {
   "cell_type": "markdown",
   "metadata": {},
   "source": [
    "#  2. Naive Bayes "
   ]
  },
  {
   "cell_type": "code",
   "execution_count": 11,
   "metadata": {},
   "outputs": [],
   "source": [
    "from sklearn.naive_bayes import MultinomialNB\n",
    "\n",
    "nb = MultinomialNB()\n",
    "\n",
    "model_nb = Pipeline([('vectorizing', bow_vector),\n",
    "             ('learning', nb)])"
   ]
  },
  {
   "cell_type": "markdown",
   "metadata": {},
   "source": [
    "* Nuevamente usamos el conjunto de datos de entrenamiento y testeo específicado en regresión logística"
   ]
  },
  {
   "cell_type": "code",
   "execution_count": 12,
   "metadata": {},
   "outputs": [
    {
     "data": {
      "text/plain": [
       "Pipeline(steps=[('vectorizing',\n",
       "                 CountVectorizer(min_df=0.0,\n",
       "                                 tokenizer=<function feature_extraction at 0x7f2d31b20950>)),\n",
       "                ('learning', MultinomialNB())])"
      ]
     },
     "execution_count": 12,
     "metadata": {},
     "output_type": "execute_result"
    }
   ],
   "source": [
    "model_nb.fit(X_train, y_train)"
   ]
  },
  {
   "cell_type": "code",
   "execution_count": 13,
   "metadata": {},
   "outputs": [],
   "source": [
    "predicted = model_nb.predict(X_test)"
   ]
  },
  {
   "cell_type": "code",
   "execution_count": 15,
   "metadata": {},
   "outputs": [
    {
     "name": "stdout",
     "output_type": "stream",
     "text": [
      "[[593   1   5  19   4   7   6]\n",
      " [ 12 520   5   9  40  20  21]\n",
      " [  2   1 506  14  94  32   9]\n",
      " [ 18   2  23 446  70  32  19]\n",
      " [ 10   7  48  63 453  20  23]\n",
      " [ 34   6  26  12  32 471  67]\n",
      " [143  25   8  25  18  96 293]]\n",
      "              precision    recall  f1-score   support\n",
      "\n",
      "     cultura       0.73      0.93      0.82       635\n",
      "    deportes       0.93      0.83      0.87       627\n",
      "    economia       0.81      0.77      0.79       658\n",
      "       mundo       0.76      0.73      0.74       610\n",
      "        pais       0.64      0.73      0.68       624\n",
      " tecnologias       0.69      0.73      0.71       648\n",
      "  tendencias       0.67      0.48      0.56       608\n",
      "\n",
      "    accuracy                           0.74      4410\n",
      "   macro avg       0.75      0.74      0.74      4410\n",
      "weighted avg       0.75      0.74      0.74      4410\n",
      "\n"
     ]
    }
   ],
   "source": [
    "from sklearn import metrics\n",
    "from sklearn.metrics import classification_report\n",
    "\n",
    "confusion_matrix = metrics.confusion_matrix(y_test, predicted)\n",
    "\n",
    "print(confusion_matrix)\n",
    "\n",
    "print(classification_report(y_test, predicted))"
   ]
  },
  {
   "cell_type": "code",
   "execution_count": 16,
   "metadata": {},
   "outputs": [
    {
     "data": {
      "text/plain": [
       "(array([0.5, 1.5, 2.5, 3.5, 4.5, 5.5, 6.5]),\n",
       " <a list of 7 Text major ticklabel objects>)"
      ]
     },
     "execution_count": 16,
     "metadata": {},
     "output_type": "execute_result"
    },
    {
     "data": {
      "image/png": "[encoded data removed]",
      "text/plain": [
       "<Figure size 432x288 with 1 Axes>"
      ]
     },
     "metadata": {
      "needs_background": "light"
     },
     "output_type": "display_data"
    }
   ],
   "source": [
    "import matplotlib.pyplot as plt\n",
    "import seaborn as sns\n",
    "import numpy as np\n",
    "\n",
    "classes = np.unique(y_test)\n",
    "\n",
    "cm = metrics.confusion_matrix(y_test, predicted)\n",
    "fig, ax = plt.subplots()\n",
    "sns.heatmap(cm, annot=True, fmt='d', ax=ax, cmap=plt.cm.Blues, \n",
    "            cbar=False)\n",
    "ax.set(xlabel=\"Pred\", ylabel=\"True\", xticklabels=classes, \n",
    "       yticklabels=classes, title=\"Confusion matrix\")\n",
    "plt.yticks(rotation=0)"
   ]
  },
  {
   "cell_type": "markdown",
   "metadata": {},
   "source": [
    "En general vemos que este modelo se comportó de mejor manera que el logístico, teniendo un accuracy del 75%. Viendo a fondo como se comportó en la predicción de los diferentes tópicos tenemos:\n",
    "\n",
    "* Precisión: Los mejores evaluados son Deportes y Economía. En el caso de Deportes es asombroso el resultado, siendo un 93%, en comparación al mejor del logísitico siendo cultura con 85% el cual en el presente algoritmo baja a un 73% (lo cual sigue siendo decente). Esto último lo podemos atribuir al hecho que, como vemos en la distribución dada en la matriz de confusión, el algoritmo tuvo una aún mayor tendencia a evaluar noticias de Tendencia con aquellas de Cultura. En términos de Tendencias tenemos que otro tópico con el que mas se le es confundido es el de Tecnologías. En general podemos notar que en general se comporta de mejor manera para distinguir los tópicos en manera general menos en los tópicos que tienden a ser mas parecidos, en este caso Cultura y Tendencias, y un tanto también Tecnología.  Con todo el peor tópico evaluado según Precisión es el de País. Esto nos dice que una baja cantidad de noticias adjudicadas a este son efectivamente de País, con lo cual tiene una alta cantidad de noticias que no son propias de su tópico. Esta atribución equivocada podemos ver según la matriz de confusión que están asociadas entre Mundo, Economía y Deportes. Referente a estos resultados es entendible que el algoritmo halla adjudicado noticias Mundo y Economía como País, por lo similar de los lenguajes usados y temáticas tomadas en ellos. Referente a Deportes es entendible un tanto si lo pensamos por el hecho del uso de muchos países entre los cuales los jugadores se intercambian, haciendo interpretar erróneamente al algoritmo una noticia de País como siendo de Deportes. \n",
    "\n",
    "\n",
    "* Recall: De manera bastante interesante vemos que Cultura obtiene una mejor evaluación, siendo el mejor evaluado en esta métrica, con un 93%. ¿Qué nos dice esto? En principio que aunque hubo un porcentaje mas elevado de noticias evaluadas como Cultura que no eran realmente de este tópico ciertamente el porcentaje que efectivamente era Cultura era mayoritariamente bien atribuido. Esto nos dice que el algoritmo Naive-Bayes tiende a interpretar mas noticias a Cultura de la cantidad que inicialmente estaba compuesto. Por ejemplo, si en principio habían 30 noticias de Cultura, nuestro algoritmo evalúa 45 noticias de Cultura, con 27 de ellas siendo realmente de Cultura. Con esto vemos que Cultura es un tópico demasiado preferido por el algoritmo. En esto vemos un efecto inverso al visto en Logístico entre Cultura y Deportes en cuanto a sus valores de precisión y recall. Otro punto en donde vemos un cambio drástico y negativo en este algoritmo es en el tópico de Tendencias, el cual es evaluado con la bajísima puntuación de 48%. En pocas palabras nos dice que ni aún la mitad de noticias de Tendencias logró efectivamente catalogarlas como tal. En gran parte esta cantidad de noticias de tendencias es atribuidas a Cultura y Tecnología, lo cual explica en estos su menor evaluación en Precision en comparación a Recall. Por otro lado vemos una estimación parecida en País, los cuales tienden a estar mas atribuidas a los tópicos de Mundo y Economía, mas no en la proporción vista en Cultura, como deja ver la comparación entre Precision y Recall de estos dos. \n",
    "\n",
    "\n",
    "* F1: En esta métrica vemos como se ve afectada por las problemáticas vistas en Precision y Recall, no entregando valores que superen el 90% y entregando valores con una menor dispersión en comparación a estos dos estimadores del cual está formado.\n",
    "\n",
    "En general es necesario recalcar que, a pesar de una peor estimación de Tendencias en comparación al modelo Logístico, este es el mejor algoritmo de los evaluados en el presente trabajo."
   ]
  },
  {
   "cell_type": "markdown",
   "metadata": {},
   "source": [
    "# 3. ADA BOOST"
   ]
  },
  {
   "cell_type": "markdown",
   "metadata": {},
   "source": [
    "En el siguiente trabajo se dará una cantidad de estimadores de 100. "
   ]
  },
  {
   "cell_type": "code",
   "execution_count": 17,
   "metadata": {},
   "outputs": [],
   "source": [
    "from sklearn.ensemble import AdaBoostClassifier\n",
    "\n",
    "ada = AdaBoostClassifier(n_estimators=100)\n",
    "\n",
    "model_ada = Pipeline([('vectorizing', bow_vector),\n",
    "                 ('learning', ada)])"
   ]
  },
  {
   "cell_type": "code",
   "execution_count": 18,
   "metadata": {},
   "outputs": [
    {
     "data": {
      "text/plain": [
       "Pipeline(steps=[('vectorizing',\n",
       "                 CountVectorizer(min_df=0.0,\n",
       "                                 tokenizer=<function feature_extraction at 0x7f2d31b20950>)),\n",
       "                ('learning', AdaBoostClassifier(n_estimators=100))])"
      ]
     },
     "execution_count": 18,
     "metadata": {},
     "output_type": "execute_result"
    }
   ],
   "source": [
    "model_ada.fit(X_train, y_train)"
   ]
  },
  {
   "cell_type": "code",
   "execution_count": 19,
   "metadata": {},
   "outputs": [],
   "source": [
    "predicted = model_ada.predict(X_test)"
   ]
  },
  {
   "cell_type": "code",
   "execution_count": 20,
   "metadata": {},
   "outputs": [
    {
     "name": "stdout",
     "output_type": "stream",
     "text": [
      "[[380  17   2  37  22  37 140]\n",
      " [  4 322   7  49 169  20  56]\n",
      " [  1   4 349  59 185  31  29]\n",
      " [ 19  15  66 215 203  37  55]\n",
      " [  3  11  61 185 255  25  84]\n",
      " [ 29  24  89  54 180 151 121]\n",
      " [ 50  27  31  45 144  81 230]]\n",
      "              precision    recall  f1-score   support\n",
      "\n",
      "     cultura       0.78      0.60      0.68       635\n",
      "    deportes       0.77      0.51      0.62       627\n",
      "    economia       0.58      0.53      0.55       658\n",
      "       mundo       0.33      0.35      0.34       610\n",
      "        pais       0.22      0.41      0.29       624\n",
      " tecnologias       0.40      0.23      0.29       648\n",
      "  tendencias       0.32      0.38      0.35       608\n",
      "\n",
      "    accuracy                           0.43      4410\n",
      "   macro avg       0.49      0.43      0.45      4410\n",
      "weighted avg       0.49      0.43      0.45      4410\n",
      "\n"
     ]
    }
   ],
   "source": [
    "from sklearn import metrics\n",
    "\n",
    "confusion_matrix = metrics.confusion_matrix(y_test, predicted)\n",
    "\n",
    "print(confusion_matrix)\n",
    "\n",
    "print(classification_report(y_test, predicted))"
   ]
  },
  {
   "cell_type": "markdown",
   "metadata": {},
   "source": [
    "En medidas generales este es el peor de los modelos vistos hasta ahora con un 43% de accuracy. Con todo vemos que los casos de cultura y deportes mantienen una mejor evaluación en contrapartida a una horrible predicción dada en cada uno de los siguientes tópicos, siendo de especial atención País y  Tecnologías que dieron valores cercanos al 20% de Precision y Recall respectivamente. Esto muestra como la distribución de noticias busco equipararse entre todos, manteniendose en general la cantidad de noticias asociadas a cada tópico (independiente de ser verdaderos positivos o falsos positivos) bastante cercana a la media general (de unas 300 noticias por tópico). Esto último es el principal dilema que vemos a través de la interpretación de datos. En cuanto al porque se me viene a la mente el hecho que el ADA BOOST es un algoritmo que da peso a los outliers, que en nuestro caso, debido a los tópicos y el tipo de información, puede bien haber sido interpretado erróneamente por el modelo, dando una estimación similar a cada uno por la sobrestimación de esos outliers. Probablemente (no comprobado en la práctica) es debido a la cantidad dada de estimadores en el principio. En este caso no evaluaremos cada uno de los estimadores. "
   ]
  },
  {
   "cell_type": "markdown",
   "metadata": {},
   "source": [
    "# 4. RANDOM FOREST"
   ]
  },
  {
   "cell_type": "code",
   "execution_count": 21,
   "metadata": {},
   "outputs": [],
   "source": [
    "from sklearn.ensemble import RandomForestClassifier\n",
    "\n",
    "random_forest = RandomForestClassifier(n_estimators=50, max_depth=None, min_samples_split=10, random_state=0)\n",
    "\n",
    "model_random_forest = Pipeline([('vectorizing', bow_vector),\n",
    "                 ('learning', random_forest)])"
   ]
  },
  {
   "cell_type": "code",
   "execution_count": 22,
   "metadata": {},
   "outputs": [
    {
     "data": {
      "text/plain": [
       "Pipeline(steps=[('vectorizing',\n",
       "                 CountVectorizer(min_df=0.0,\n",
       "                                 tokenizer=<function feature_extraction at 0x7f2d31b20950>)),\n",
       "                ('learning',\n",
       "                 RandomForestClassifier(min_samples_split=10, n_estimators=50,\n",
       "                                        random_state=0))])"
      ]
     },
     "execution_count": 22,
     "metadata": {},
     "output_type": "execute_result"
    }
   ],
   "source": [
    "model_random_forest.fit(X_train, y_train)"
   ]
  },
  {
   "cell_type": "code",
   "execution_count": 23,
   "metadata": {},
   "outputs": [],
   "source": [
    "predicted = model_random_forest.predict(X_test)"
   ]
  },
  {
   "cell_type": "code",
   "execution_count": 24,
   "metadata": {},
   "outputs": [
    {
     "name": "stdout",
     "output_type": "stream",
     "text": [
      "[[564   9   4  20   5   3  30]\n",
      " [  4 515  23  27  11  15  32]\n",
      " [  2   2 488  32  74  38  22]\n",
      " [ 33  23  56 367  68  28  35]\n",
      " [ 12  20  82  99 355  23  33]\n",
      " [ 43  33  55  21  35 351 110]\n",
      " [ 81  38  22  39  27  65 336]]\n",
      "              precision    recall  f1-score   support\n",
      "\n",
      "     cultura       0.76      0.89      0.82       635\n",
      "    deportes       0.80      0.82      0.81       627\n",
      "    economia       0.67      0.74      0.70       658\n",
      "       mundo       0.61      0.60      0.60       610\n",
      "        pais       0.62      0.57      0.59       624\n",
      " tecnologias       0.67      0.54      0.60       648\n",
      "  tendencias       0.56      0.55      0.56       608\n",
      "\n",
      "    accuracy                           0.67      4410\n",
      "   macro avg       0.67      0.67      0.67      4410\n",
      "weighted avg       0.67      0.67      0.67      4410\n",
      "\n"
     ]
    }
   ],
   "source": [
    "from sklearn import metrics\n",
    "\n",
    "confusion_matrix = metrics.confusion_matrix(y_test, predicted)\n",
    "\n",
    "print(confusion_matrix)\n",
    "\n",
    "print(classification_report(y_test, predicted))"
   ]
  },
  {
   "cell_type": "markdown",
   "metadata": {},
   "source": [
    "En el caso de Random Forest tuvo una mejor evaluación que ADA BOOST, lo cual le damos especial atribución a una mayor especificación de parámetros para el módelo que dieron una mejor estimación. En la evaluación de los estimadores tenemos:\n",
    "* Precisión: Tenemos una vez mas, como lo vimos en el modelo Naive-Bayes, una buena estimación de deportes, lo cual nos dice que la mayoría de sus noticias atribuidas son efectivamente de la temática. Esto una vez mas es entendido por su nicho de palabras que al modelo de seguro le hace diferenciar de otras noticias. Una vez mas Cultura tiene una menor estimación, aunque bastante buena en general, que Deportes, lo cual lo podemos atribuir al hecho que tiene un alto porcentaje de noticias atribuidas como Cultura que son realmente de tendencias. Esto último también lo vemos en su Precisión de este último el cual es aún mas bajo que en el modelo Logístico y Naive-Bayes, lo cual indica que tiene un alto grado igualmente de noticias que no son de de tendencias, practicamente la mitad.\n",
    "\n",
    "\n",
    "* Recall: En esta estimación tenemos datos interesantes al compararlos a precisión. En el caso de Cultura tenemos que la mayor cantidad de noticias que eran de Cultura fueron efectivamente evaluadas en su tópico correspondiente, pero en el caso de Tendencias tenemos que cercano a la mitad de sus noticias no fueron evaluadas como Tendencias, los cuales están distribuidos entre los otros tópicos, en especial en Cultura, lo cual explica una menor Precisión en comparación a su Recall en Cultura. El otro que sufre de una baja estimación de su propio tópico es Tecnologías, siendo el peor de los tópicos con una centécima menos que Tendencias. Nuevamente nos dice que gran parte de noticias correspondiente a Tecnologías fueron catalogadas en otros tópicos, los cuales viendo la matriz de confusión podemos estimar que son principalmente Tendencia, Economía y Cultura. En este sentido podemos interpretar por el uso de palabras en Tecnologías que pueda ser asociado a estos tópicos que usualmente tienen que ver con tecnología en su enfoque, como cuando una nueva tecnología como un celular de Apple se enmarca en una noticia evaluando sus precios y ventas millonarias que son obviamente de Economía, o la salida de un nuevo dispositivo que segurametne será parte de Tendencias. \n",
    "\n",
    "\n",
    "* F1: No hay mucho mas que decir que lo dicho en los análisis de Precisión y Recall. Algo que denotar tal vez es como en comparación a Naive-Bayes (el cual fue un modelo mas cercano al comportamiento de esta, aunque mejor), es como, siendo peor en términos generales, tiene el exacto mismo rendimiento según esta métrica en Tendencias y Cultura. Con lo cual nos dice que al comparar la precisión y recall de estos el comportamiento general se mantiene. Con todo lo que a veces vamos a querer no va a ser necesariamente un comportamiento que maximize los dos estimadores a la vez, sino uno que, en el caso de Cultura por ejemplo, maximize su precision, debido a que de esta manera podremos en general indentificar que el modelo no ha sobreaprendido las noticias como usualemente vimos que hace al catalogarlas de Cultura cuando no lo son. Esto último es una estimación general que podemos indentificar al analizar todos los modelos en paralelo, que Cultura es un tópico que es mas sucio (contiene noticias de otros tópicos) y a la vez mas puro (contiene una mayor cantidad de noticias correctamente evaluadas de su propio tópico), siendo de especial atención para tener en cuenta. "
   ]
  }
 ],
 "metadata": {
  "kernelspec": {
   "display_name": "Python 3",
   "language": "python",
   "name": "python3"
  },
  "language_info": {
   "codemirror_mode": {
    "name": "ipython",
    "version": 3
   },
   "file_extension": ".py",
   "mimetype": "text/x-python",
   "name": "python",
   "nbconvert_exporter": "python",
   "pygments_lexer": "ipython3",
   "version": "3.7.6"
  }
 },
 "nbformat": 4,
 "nbformat_minor": 2
}
